{
 "cells": [
  {
   "cell_type": "code",
   "execution_count": 1,
   "id": "d63d37a3",
   "metadata": {},
   "outputs": [],
   "source": [
    "# %% load packages\n",
    "import statsmodels.api as sm\n",
    "import pandas as pd"
   ]
  },
  {
   "cell_type": "code",
   "execution_count": 2,
   "id": "aa820971",
   "metadata": {},
   "outputs": [],
   "source": [
    "# %% load data\n",
    "dataset = pd.read_csv('Salary_Data.csv')\n",
    "x = dataset.drop(columns=['Salary'])\n",
    "y = dataset.iloc[:,1].values"
   ]
  },
  {
   "cell_type": "code",
   "execution_count": 3,
   "id": "8e81b42f",
   "metadata": {},
   "outputs": [],
   "source": [
    "# %% specify exogeneous and endogeneous variables\n",
    "exog, endog = sm.add_constant(x), y"
   ]
  },
  {
   "cell_type": "code",
   "execution_count": 4,
   "id": "de41c712",
   "metadata": {},
   "outputs": [
    {
     "ename": "TypeError",
     "evalue": "Calling Family(..) with a link class is not allowed. Use an instance of a link class instead.",
     "output_type": "error",
     "traceback": [
      "\u001b[1;31m---------------------------------------------------------------------------\u001b[0m",
      "\u001b[1;31mTypeError\u001b[0m                                 Traceback (most recent call last)",
      "Cell \u001b[1;32mIn[4], line 3\u001b[0m\n\u001b[0;32m      1\u001b[0m \u001b[38;5;66;03m# %% specify the model\u001b[39;00m\n\u001b[0;32m      2\u001b[0m mod \u001b[38;5;241m=\u001b[39m sm\u001b[38;5;241m.\u001b[39mGLM(endog, exog,   \n\u001b[1;32m----> 3\u001b[0m         family\u001b[38;5;241m=\u001b[39m\u001b[43msm\u001b[49m\u001b[38;5;241;43m.\u001b[39;49m\u001b[43mfamilies\u001b[49m\u001b[38;5;241;43m.\u001b[39;49m\u001b[43mPoisson\u001b[49m\u001b[43m(\u001b[49m\n\u001b[0;32m      4\u001b[0m \u001b[43m             \u001b[49m\u001b[43mlink\u001b[49m\u001b[38;5;241;43m=\u001b[39;49m\u001b[43msm\u001b[49m\u001b[38;5;241;43m.\u001b[39;49m\u001b[43mfamilies\u001b[49m\u001b[38;5;241;43m.\u001b[39;49m\u001b[43mlinks\u001b[49m\u001b[38;5;241;43m.\u001b[39;49m\u001b[43mlog\u001b[49m\u001b[43m)\u001b[49m)\n",
      "File \u001b[1;32mD:\\ProgramData\\anaconda3\\lib\\site-packages\\statsmodels\\genmod\\families\\family.py:401\u001b[0m, in \u001b[0;36mPoisson.__init__\u001b[1;34m(self, link)\u001b[0m\n\u001b[0;32m    399\u001b[0m \u001b[38;5;28;01mif\u001b[39;00m link \u001b[38;5;129;01mis\u001b[39;00m \u001b[38;5;28;01mNone\u001b[39;00m:\n\u001b[0;32m    400\u001b[0m     link \u001b[38;5;241m=\u001b[39m L\u001b[38;5;241m.\u001b[39mLog()\n\u001b[1;32m--> 401\u001b[0m \u001b[38;5;28;43msuper\u001b[39;49m\u001b[43m(\u001b[49m\u001b[43mPoisson\u001b[49m\u001b[43m,\u001b[49m\u001b[43m \u001b[49m\u001b[38;5;28;43mself\u001b[39;49m\u001b[43m)\u001b[49m\u001b[38;5;241;43m.\u001b[39;49m\u001b[38;5;21;43m__init__\u001b[39;49m\u001b[43m(\u001b[49m\u001b[43mlink\u001b[49m\u001b[38;5;241;43m=\u001b[39;49m\u001b[43mlink\u001b[49m\u001b[43m,\u001b[49m\u001b[43m \u001b[49m\u001b[43mvariance\u001b[49m\u001b[38;5;241;43m=\u001b[39;49m\u001b[43mPoisson\u001b[49m\u001b[38;5;241;43m.\u001b[39;49m\u001b[43mvariance\u001b[49m\u001b[43m)\u001b[49m\n",
      "File \u001b[1;32mD:\\ProgramData\\anaconda3\\lib\\site-packages\\statsmodels\\genmod\\families\\family.py:83\u001b[0m, in \u001b[0;36mFamily.__init__\u001b[1;34m(self, link, variance)\u001b[0m\n\u001b[0;32m     78\u001b[0m \u001b[38;5;28;01mif\u001b[39;00m inspect\u001b[38;5;241m.\u001b[39misclass(link):\n\u001b[0;32m     79\u001b[0m     warnmssg \u001b[38;5;241m=\u001b[39m (\n\u001b[0;32m     80\u001b[0m         \u001b[38;5;124m\"\u001b[39m\u001b[38;5;124mCalling Family(..) with a link class is not allowed. Use an \u001b[39m\u001b[38;5;124m\"\u001b[39m\n\u001b[0;32m     81\u001b[0m         \u001b[38;5;124m\"\u001b[39m\u001b[38;5;124minstance of a link class instead.\u001b[39m\u001b[38;5;124m\"\u001b[39m\n\u001b[0;32m     82\u001b[0m     )\n\u001b[1;32m---> 83\u001b[0m     \u001b[38;5;28;01mraise\u001b[39;00m \u001b[38;5;167;01mTypeError\u001b[39;00m(warnmssg)\n\u001b[0;32m     84\u001b[0m \u001b[38;5;28;01melse\u001b[39;00m:\n\u001b[0;32m     85\u001b[0m     \u001b[38;5;28mself\u001b[39m\u001b[38;5;241m.\u001b[39mlink \u001b[38;5;241m=\u001b[39m link\n",
      "\u001b[1;31mTypeError\u001b[0m: Calling Family(..) with a link class is not allowed. Use an instance of a link class instead."
     ]
    }
   ],
   "source": [
    "# %% specify the model\n",
    "mod = sm.GLM(endog, exog,   \n",
    "        family=sm.families.Poisson(\n",
    "             link=sm.families.links.log))"
   ]
  },
  {
   "cell_type": "code",
   "execution_count": null,
   "id": "ed9ecc12",
   "metadata": {},
   "outputs": [],
   "source": [
    "# %% fit the model\n",
    "res = mod.fit()"
   ]
  },
  {
   "cell_type": "code",
   "execution_count": null,
   "id": "66abd641",
   "metadata": {},
   "outputs": [],
   "source": [
    "# %% print model summary\n",
    "print(res.summary())"
   ]
  },
  {
   "cell_type": "code",
   "execution_count": null,
   "id": "2084389b",
   "metadata": {},
   "outputs": [],
   "source": []
  }
 ],
 "metadata": {
  "kernelspec": {
   "display_name": "Python 3 (ipykernel)",
   "language": "python",
   "name": "python3"
  },
  "language_info": {
   "codemirror_mode": {
    "name": "ipython",
    "version": 3
   },
   "file_extension": ".py",
   "mimetype": "text/x-python",
   "name": "python",
   "nbconvert_exporter": "python",
   "pygments_lexer": "ipython3",
   "version": "3.10.9"
  }
 },
 "nbformat": 4,
 "nbformat_minor": 5
}
