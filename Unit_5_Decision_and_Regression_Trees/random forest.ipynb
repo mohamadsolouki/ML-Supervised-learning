{
 "cells": [
  {
   "cell_type": "code",
   "execution_count": 1,
   "id": "a7dff142",
   "metadata": {},
   "outputs": [],
   "source": [
    "# %% load packages\n",
    "import pandas as pd\n",
    "from sklearn.model_selection import train_test_split\n",
    "from sklearn.ensemble import RandomForestClassifier\n",
    "from sklearn.metrics import confusion_matrix\n",
    "from sklearn.metrics import accuracy_score"
   ]
  },
  {
   "cell_type": "code",
   "execution_count": 2,
   "id": "e5752292",
   "metadata": {},
   "outputs": [
    {
     "name": "stdout",
     "output_type": "stream",
     "text": [
      "   Week Outlook Humidity Wind  Label\n",
      "0     1   Rainy     High  Yes      0\n",
      "1     2   Sunny   Normal   No      1\n",
      "2     3   Sunny   Normal  Yes      1\n",
      "3     4   Sunny     High  Yes      0\n",
      "4     5   Rainy   Normal  Yes      0\n"
     ]
    }
   ],
   "source": [
    "# %% load dataset and print 1st five rows\n",
    "dataset = pd.read_csv('takingawalk_dataset.csv', sep=';')\n",
    "print(dataset.head())"
   ]
  },
  {
   "cell_type": "code",
   "execution_count": 3,
   "id": "1f48f8f5",
   "metadata": {},
   "outputs": [
    {
     "name": "stdout",
     "output_type": "stream",
     "text": [
      "Index(['Outlook_Rainy', 'Outlook_Sunny', 'Humidity_High', 'Humidity_Normal',\n",
      "       'Wind_No', 'Wind_Yes'],\n",
      "      dtype='object')\n"
     ]
    }
   ],
   "source": [
    "# %% prepare the data\n",
    "X = dataset.drop(columns=['Label', 'Week'])\n",
    "y = dataset['Label']\n",
    "X = pd.get_dummies(X)\n",
    "print(X.columns)"
   ]
  },
  {
   "cell_type": "code",
   "execution_count": 4,
   "id": "dd88e1ba",
   "metadata": {},
   "outputs": [],
   "source": [
    "# %% split the data into training and testing data\n",
    "X_train, X_test, y_train, y_test = train_test_split(X, y, \n",
    "    test_size=0.3, shuffle=True, random_state=42)"
   ]
  },
  {
   "cell_type": "code",
   "execution_count": 5,
   "id": "154f5955",
   "metadata": {},
   "outputs": [
    {
     "data": {
      "text/plain": [
       "RandomForestClassifier(max_depth=3, random_state=42)"
      ]
     },
     "execution_count": 5,
     "metadata": {},
     "output_type": "execute_result"
    }
   ],
   "source": [
    "# %% specify and train the model\n",
    "clf = RandomForestClassifier(n_estimators=100, max_depth=3, random_state=42)\n",
    "clf.fit(X_train, y_train)"
   ]
  },
  {
   "cell_type": "code",
   "execution_count": 6,
   "id": "e8156a58",
   "metadata": {},
   "outputs": [],
   "source": [
    "# %% use the model to predict values\n",
    "y_pred = clf.predict(X_test)"
   ]
  },
  {
   "cell_type": "code",
   "execution_count": 7,
   "id": "c2735e3f",
   "metadata": {},
   "outputs": [
    {
     "name": "stdout",
     "output_type": "stream",
     "text": [
      "Confusion Matrix:\n",
      "[[10  1]\n",
      " [ 0  5]]\n"
     ]
    }
   ],
   "source": [
    "# %% print the confusion matrix\n",
    "print('Confusion Matrix:')\n",
    "print(confusion_matrix(y_test, y_pred))"
   ]
  },
  {
   "cell_type": "code",
   "execution_count": 8,
   "id": "0f2abc75",
   "metadata": {},
   "outputs": [
    {
     "data": {
      "text/plain": [
       "0.9375"
      ]
     },
     "execution_count": 8,
     "metadata": {},
     "output_type": "execute_result"
    }
   ],
   "source": [
    "# %% print accuracy\n",
    "accuracy_score(y_test, y_pred)\n",
    "# console output: 0.9375"
   ]
  },
  {
   "cell_type": "code",
   "execution_count": 9,
   "id": "26e49c83",
   "metadata": {},
   "outputs": [
    {
     "name": "stdout",
     "output_type": "stream",
     "text": [
      "Feature Scores:\n",
      "Humidity_Normal    0.193512\n",
      "Outlook_Sunny      0.192283\n",
      "Humidity_High      0.168927\n",
      "Wind_No            0.151238\n",
      "Outlook_Rainy      0.147944\n",
      "Wind_Yes           0.146097\n",
      "dtype: float64\n"
     ]
    }
   ],
   "source": [
    "# %% extract feature importances\n",
    "feature_scores = pd.Series(clf.feature_importances_,\n",
    "    index=X_train.columns).sort_values(ascending=False)\n",
    "print('Feature Scores:')\n",
    "print(feature_scores)"
   ]
  },
  {
   "cell_type": "code",
   "execution_count": null,
   "id": "c99cb82a",
   "metadata": {},
   "outputs": [],
   "source": []
  }
 ],
 "metadata": {
  "kernelspec": {
   "display_name": "Python 3 (ipykernel)",
   "language": "python",
   "name": "python3"
  },
  "language_info": {
   "codemirror_mode": {
    "name": "ipython",
    "version": 3
   },
   "file_extension": ".py",
   "mimetype": "text/x-python",
   "name": "python",
   "nbconvert_exporter": "python",
   "pygments_lexer": "ipython3",
   "version": "3.9.7"
  }
 },
 "nbformat": 4,
 "nbformat_minor": 5
}
